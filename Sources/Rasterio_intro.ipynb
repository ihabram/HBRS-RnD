{
 "cells": [
  {
   "cell_type": "markdown",
   "metadata": {},
   "source": [
    "# This notebook explores the basics of *rasterio*\n",
    "## On an **RGB** orthomosaic\n",
    "https://rasterio.readthedocs.io/en/latest/\n",
    "\n",
    "\n",
    "Geographic information systems use GeoTIFF and other formats to organize and \n",
    "store gridded raster datasets such as satellite imagery and terrain models. Rasterio reads and writes these \n",
    "formats and provides a Python API based on Numpy N-dimensional arrays and GeoJSON.\n",
    "\n"
   ]
  },
  {
   "cell_type": "markdown",
   "metadata": {},
   "source": [
    "### Open dataset\n",
    "And display some basic properties"
   ]
  },
  {
   "cell_type": "code",
   "execution_count": 1,
   "metadata": {},
   "outputs": [
    {
     "name": "stdout",
     "output_type": "stream",
     "text": [
      "Number of bands:  3\n",
      "Width:  3411 m\n",
      "Height:  5016 m\n"
     ]
    }
   ],
   "source": [
    "import rasterio\n",
    "\n",
    "folder = '../Images/'\n",
    "\n",
    "with rasterio.open(folder + 'Orthomosaics/ortho-50mm.tif') as dataset:\n",
    "    print('Number of bands: ', dataset.count)\n",
    "    print('Width: ', dataset.width, 'm')\n",
    "    print('Height: ', dataset.height, 'm')\n",
    "    "
   ]
  },
  {
   "cell_type": "markdown",
   "metadata": {},
   "source": [
    "### Data type of the bands"
   ]
  },
  {
   "cell_type": "code",
   "execution_count": 13,
   "metadata": {},
   "outputs": [
    {
     "data": {
      "text/plain": [
       "{1: 'uint8', 2: 'uint8', 3: 'uint8'}"
      ]
     },
     "execution_count": 13,
     "metadata": {},
     "output_type": "execute_result"
    }
   ],
   "source": [
    "{i: dtype for i, dtype in zip(dataset.indexes, dataset.dtypes)}"
   ]
  },
  {
   "cell_type": "markdown",
   "metadata": {},
   "source": [
    "### Location of the observed area"
   ]
  },
  {
   "cell_type": "code",
   "execution_count": 14,
   "metadata": {},
   "outputs": [
    {
     "data": {
      "text/plain": [
       "BoundingBox(left=435124.09857298504, bottom=5699479.7898591515, right=435294.648572985, top=5699730.589859151)"
      ]
     },
     "execution_count": 14,
     "metadata": {},
     "output_type": "execute_result"
    }
   ],
   "source": [
    "dataset.bounds"
   ]
  },
  {
   "cell_type": "markdown",
   "metadata": {},
   "source": [
    "### Transform\n",
    "\n",
    "A dataset’s transform is an affine transformation matrix that maps pixel locations in (row, col) coordinates to (x, y) spatial positions."
   ]
  },
  {
   "cell_type": "code",
   "execution_count": 15,
   "metadata": {},
   "outputs": [
    {
     "data": {
      "text/plain": [
       "Affine(0.04999999999999659, 0.0, 435124.09857298504,\n",
       "       0.0, -0.049999999999962866, 5699730.589859151)"
      ]
     },
     "execution_count": 15,
     "metadata": {},
     "output_type": "execute_result"
    }
   ],
   "source": [
    "dataset.transform"
   ]
  },
  {
   "cell_type": "markdown",
   "metadata": {},
   "source": [
    "Display the spatial position of the upper left corner"
   ]
  },
  {
   "cell_type": "code",
   "execution_count": 16,
   "metadata": {},
   "outputs": [
    {
     "data": {
      "text/plain": [
       "(435124.09857298504, 5699730.589859151)"
      ]
     },
     "execution_count": 16,
     "metadata": {},
     "output_type": "execute_result"
    }
   ],
   "source": [
    "dataset.transform * (0, 0)"
   ]
  },
  {
   "cell_type": "markdown",
   "metadata": {},
   "source": [
    "Display the spatial position of the lower right corner"
   ]
  },
  {
   "cell_type": "code",
   "execution_count": 17,
   "metadata": {},
   "outputs": [
    {
     "data": {
      "text/plain": [
       "(435294.648572985, 5699479.7898591515)"
      ]
     },
     "execution_count": 17,
     "metadata": {},
     "output_type": "execute_result"
    }
   ],
   "source": [
    "dataset.transform * (dataset.width, dataset.height)"
   ]
  },
  {
   "cell_type": "markdown",
   "metadata": {},
   "source": [
    "### Coordinate Reference System (CRS)\n",
    "https://epsg.io/25832\n",
    "\n",
    "UTM zone 32N"
   ]
  },
  {
   "cell_type": "code",
   "execution_count": 18,
   "metadata": {},
   "outputs": [
    {
     "data": {
      "text/plain": [
       "CRS.from_epsg(25832)"
      ]
     },
     "execution_count": 18,
     "metadata": {},
     "output_type": "execute_result"
    }
   ],
   "source": [
    "dataset.crs"
   ]
  },
  {
   "cell_type": "markdown",
   "metadata": {},
   "source": [
    "### Reading raster data"
   ]
  },
  {
   "cell_type": "code",
   "execution_count": 2,
   "metadata": {},
   "outputs": [
    {
     "name": "stdout",
     "output_type": "stream",
     "text": [
      "[[255 255 255 ... 255 255 255]\n",
      " [255 255 255 ... 255 255 255]\n",
      " [255 255 255 ... 255 255 255]\n",
      " ...\n",
      " [255 255 255 ... 255 255 255]\n",
      " [255 255 255 ... 255 255 255]\n",
      " [255 255 255 ... 255 255 255]]\n",
      "109\n"
     ]
    }
   ],
   "source": [
    "with rasterio.open(folder + 'Orthomosaics/ortho-50mm.tif') as dataset:\n",
    "    band1 = dataset.read(1)\n",
    "\n",
    "print(band1)\n",
    "print(band1[dataset.height // 2, dataset.width // 2])"
   ]
  },
  {
   "cell_type": "markdown",
   "metadata": {},
   "source": [
    "Get the value of the model from 50 meter east, and 40 meter south from the upper left corner of the model."
   ]
  },
  {
   "cell_type": "code",
   "execution_count": 3,
   "metadata": {},
   "outputs": [
    {
     "name": "stdout",
     "output_type": "stream",
     "text": [
      "Pixel indicies:  800 1000\n",
      "Color value:  134\n"
     ]
    }
   ],
   "source": [
    "# Define the point's spatial location in meters \n",
    "x, y = (dataset.bounds.left + 50, dataset.bounds.top - 40)\n",
    "\n",
    "# Transform the spatial positions to pixel values\n",
    "row, col = dataset.index(x, y)\n",
    "print('Pixel indicies: ', row, col)\n",
    "\n",
    "# Access the color information of the givel pixel \n",
    "print('Color value: ', band1[row, col])"
   ]
  }
 ],
 "metadata": {
  "kernelspec": {
   "display_name": "Python 3 (ipykernel)",
   "language": "python",
   "name": "python3"
  },
  "language_info": {
   "codemirror_mode": {
    "name": "ipython",
    "version": 3
   },
   "file_extension": ".py",
   "mimetype": "text/x-python",
   "name": "python",
   "nbconvert_exporter": "python",
   "pygments_lexer": "ipython3",
   "version": "3.8.13"
  },
  "vscode": {
   "interpreter": {
    "hash": "29a255d151b307e7fd86425a311ad9ce0cd372f594f97980e5fe218d5e73966f"
   }
  }
 },
 "nbformat": 4,
 "nbformat_minor": 4
}
